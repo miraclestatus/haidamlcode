{
 "cells": [
  {
   "cell_type": "markdown",
   "metadata": {},
   "source": [
    "# 读取 csv"
   ]
  },
  {
   "cell_type": "code",
   "execution_count": 9,
   "metadata": {},
   "outputs": [],
   "source": [
    "import pandas as pd"
   ]
  },
  {
   "cell_type": "code",
   "execution_count": 11,
   "metadata": {},
   "outputs": [],
   "source": [
    "df = pd.read_csv('dangdang.csv')"
   ]
  },
  {
   "cell_type": "code",
   "execution_count": 12,
   "metadata": {},
   "outputs": [
    {
     "data": {
      "text/html": [
       "<div>\n",
       "<style scoped>\n",
       "    .dataframe tbody tr th:only-of-type {\n",
       "        vertical-align: middle;\n",
       "    }\n",
       "\n",
       "    .dataframe tbody tr th {\n",
       "        vertical-align: top;\n",
       "    }\n",
       "\n",
       "    .dataframe thead th {\n",
       "        text-align: right;\n",
       "    }\n",
       "</style>\n",
       "<table border=\"1\" class=\"dataframe\">\n",
       "  <thead>\n",
       "    <tr style=\"text-align: right;\">\n",
       "      <th></th>\n",
       "      <th>Unnamed: 0</th>\n",
       "      <th>book_name</th>\n",
       "      <th>price</th>\n",
       "      <th>store</th>\n",
       "      <th>link</th>\n",
       "    </tr>\n",
       "  </thead>\n",
       "  <tbody>\n",
       "    <tr>\n",
       "      <th>0</th>\n",
       "      <td>0</td>\n",
       "      <td>机器学习 周志华 西瓜书 深度学习deep learning 花书 ai书 python神...</td>\n",
       "      <td>423.8</td>\n",
       "      <td>育博彦图书专营店</td>\n",
       "      <td>http://product.dangdang.com/1604298621.html</td>\n",
       "    </tr>\n",
       "    <tr>\n",
       "      <th>1</th>\n",
       "      <td>1</td>\n",
       "      <td>机器学习 周志华 西瓜书 深度学习deep learning 花书 ai书 python神...</td>\n",
       "      <td>416.0</td>\n",
       "      <td>阅微阁图书专营店</td>\n",
       "      <td>http://product.dangdang.com/1665183692.html</td>\n",
       "    </tr>\n",
       "    <tr>\n",
       "      <th>2</th>\n",
       "      <td>2</td>\n",
       "      <td>机器学习 周志华 西瓜书 深度学习deep learning 花书 ai书 python神...</td>\n",
       "      <td>375.3</td>\n",
       "      <td>嘉辰图书专营店</td>\n",
       "      <td>http://product.dangdang.com/1769915860.html</td>\n",
       "    </tr>\n",
       "    <tr>\n",
       "      <th>3</th>\n",
       "      <td>3</td>\n",
       "      <td>机器学习 周志华 西瓜书 深度学习deep learning 花书 ai书 python神...</td>\n",
       "      <td>274.0</td>\n",
       "      <td>天意事成图书专营店</td>\n",
       "      <td>http://product.dangdang.com/1627535934.html</td>\n",
       "    </tr>\n",
       "    <tr>\n",
       "      <th>4</th>\n",
       "      <td>4</td>\n",
       "      <td>Python编程从入门到实践+零基础入门学习Python+Python基础教程第二版（修订...</td>\n",
       "      <td>237.5</td>\n",
       "      <td>博鸿文化图书专营店</td>\n",
       "      <td>http://product.dangdang.com/1427665587.html</td>\n",
       "    </tr>\n",
       "  </tbody>\n",
       "</table>\n",
       "</div>"
      ],
      "text/plain": [
       "   Unnamed: 0                                          book_name  price  \\\n",
       "0           0   机器学习 周志华 西瓜书 深度学习deep learning 花书 ai书 python神...  423.8   \n",
       "1           1   机器学习 周志华 西瓜书 深度学习deep learning 花书 ai书 python神...  416.0   \n",
       "2           2   机器学习 周志华 西瓜书 深度学习deep learning 花书 ai书 python神...  375.3   \n",
       "3           3   机器学习 周志华 西瓜书 深度学习deep learning 花书 ai书 python神...  274.0   \n",
       "4           4   Python编程从入门到实践+零基础入门学习Python+Python基础教程第二版（修订...  237.5   \n",
       "\n",
       "       store                                         link  \n",
       "0   育博彦图书专营店  http://product.dangdang.com/1604298621.html  \n",
       "1   阅微阁图书专营店  http://product.dangdang.com/1665183692.html  \n",
       "2    嘉辰图书专营店  http://product.dangdang.com/1769915860.html  \n",
       "3  天意事成图书专营店  http://product.dangdang.com/1627535934.html  \n",
       "4  博鸿文化图书专营店  http://product.dangdang.com/1427665587.html  "
      ]
     },
     "execution_count": 12,
     "metadata": {},
     "output_type": "execute_result"
    }
   ],
   "source": [
    "df.head()"
   ]
  },
  {
   "cell_type": "code",
   "execution_count": 15,
   "metadata": {},
   "outputs": [
    {
     "data": {
      "text/plain": [
       "pandas.core.series.Series"
      ]
     },
     "execution_count": 15,
     "metadata": {},
     "output_type": "execute_result"
    }
   ],
   "source": [
    "type(df['price'])"
   ]
  },
  {
   "cell_type": "code",
   "execution_count": 16,
   "metadata": {},
   "outputs": [
    {
     "data": {
      "text/plain": [
       "pandas.core.frame.DataFrame"
      ]
     },
     "execution_count": 16,
     "metadata": {},
     "output_type": "execute_result"
    }
   ],
   "source": [
    "type(df.head())"
   ]
  },
  {
   "cell_type": "code",
   "execution_count": 19,
   "metadata": {},
   "outputs": [
    {
     "data": {
      "text/plain": [
       "array([423.8 , 416.  , 375.3 , 274.  , 237.5 , 208.55, 208.  , 208.  ,\n",
       "       194.5 , 189.  , 181.4 , 177.85, 176.46, 172.9 , 165.01, 164.6 ,\n",
       "       163.54, 158.98, 157.76, 138.  , 132.94, 128.  , 124.  , 115.1 ,\n",
       "       104.  ,  89.84,  89.7 ,  88.98,  88.  ,  87.  ,  87.  ,  86.17,\n",
       "        85.  ,  84.  ,  81.9 ,  81.9 ,  81.67,  80.1 ,  80.1 ,  80.  ,\n",
       "        79.  ,  75.82,  75.59,  69.8 ,  69.  ,  66.8 ,  66.8 ,  64.  ,\n",
       "        64.  ,  61.  ,  59.7 ,  53.16,  52.5 ,  50.7 ,  50.  ,  48.  ,\n",
       "        47.5 ,  45.5 ,  44.5 ,   0.  ])"
      ]
     },
     "execution_count": 19,
     "metadata": {},
     "output_type": "execute_result"
    }
   ],
   "source": [
    "df['price'].values"
   ]
  },
  {
   "cell_type": "markdown",
   "metadata": {},
   "source": [
    "# 数据归一化"
   ]
  },
  {
   "cell_type": "code",
   "execution_count": 21,
   "metadata": {},
   "outputs": [],
   "source": [
    "from sklearn import datasets\n",
    "from matplotlib import pyplot as plt\n",
    "import numpy as np"
   ]
  },
  {
   "cell_type": "code",
   "execution_count": 23,
   "metadata": {},
   "outputs": [
    {
     "data": {
      "text/plain": [
       "array([21, 26, 89,  7, 91, 55, 70, 72, 40, 65,  5, 87, 26, 72, 65, 86, 75,\n",
       "       86, 98, 82, 75, 42, 15,  8, 35, 40, 17, 22, 43,  8, 76, 70, 91, 42,\n",
       "       22, 41, 87, 62, 59, 74, 36, 45, 69, 95, 69, 98, 69, 24, 70,  0, 76,\n",
       "        9, 13, 45, 28, 84,  0, 69, 86, 25, 50, 57,  3, 20, 44, 28, 35, 23,\n",
       "       73, 95, 94, 41, 54, 38, 58, 86, 42, 15, 81, 36, 73,  1, 49, 93, 55,\n",
       "       14, 15, 97, 20, 82, 74, 20, 96, 64,  5, 99,  6, 53, 83, 28])"
      ]
     },
     "execution_count": 23,
     "metadata": {},
     "output_type": "execute_result"
    }
   ],
   "source": [
    "x = np.random.randint(0, 100, size=100)\n",
    "x"
   ]
  },
  {
   "cell_type": "code",
   "execution_count": 24,
   "metadata": {},
   "outputs": [
    {
     "data": {
      "text/plain": [
       "[array([0.21212121, 0.26262626, 0.8989899 , 0.07070707, 0.91919192,\n",
       "        0.55555556, 0.70707071, 0.72727273, 0.4040404 , 0.65656566,\n",
       "        0.05050505, 0.87878788, 0.26262626, 0.72727273, 0.65656566,\n",
       "        0.86868687, 0.75757576, 0.86868687, 0.98989899, 0.82828283,\n",
       "        0.75757576, 0.42424242, 0.15151515, 0.08080808, 0.35353535,\n",
       "        0.4040404 , 0.17171717, 0.22222222, 0.43434343, 0.08080808,\n",
       "        0.76767677, 0.70707071, 0.91919192, 0.42424242, 0.22222222,\n",
       "        0.41414141, 0.87878788, 0.62626263, 0.5959596 , 0.74747475,\n",
       "        0.36363636, 0.45454545, 0.6969697 , 0.95959596, 0.6969697 ,\n",
       "        0.98989899, 0.6969697 , 0.24242424, 0.70707071, 0.        ,\n",
       "        0.76767677, 0.09090909, 0.13131313, 0.45454545, 0.28282828,\n",
       "        0.84848485, 0.        , 0.6969697 , 0.86868687, 0.25252525,\n",
       "        0.50505051, 0.57575758, 0.03030303, 0.2020202 , 0.44444444,\n",
       "        0.28282828, 0.35353535, 0.23232323, 0.73737374, 0.95959596,\n",
       "        0.94949495, 0.41414141, 0.54545455, 0.38383838, 0.58585859,\n",
       "        0.86868687, 0.42424242, 0.15151515, 0.81818182, 0.36363636,\n",
       "        0.73737374, 0.01010101, 0.49494949, 0.93939394, 0.55555556,\n",
       "        0.14141414, 0.15151515, 0.97979798, 0.2020202 , 0.82828283,\n",
       "        0.74747475, 0.2020202 , 0.96969697, 0.64646465, 0.05050505,\n",
       "        1.        , 0.06060606, 0.53535354, 0.83838384, 0.28282828])]"
      ]
     },
     "execution_count": 24,
     "metadata": {},
     "output_type": "execute_result"
    }
   ],
   "source": [
    "[(x-np.min(x))/np.max(x)-np.min(x)]"
   ]
  },
  {
   "cell_type": "code",
   "execution_count": 27,
   "metadata": {},
   "outputs": [
    {
     "data": {
      "text/plain": [
       "(50, 2)"
      ]
     },
     "execution_count": 27,
     "metadata": {},
     "output_type": "execute_result"
    }
   ],
   "source": [
    "X = np.random.randint(0, 100, size=(50, 2))\n",
    "X.shape"
   ]
  },
  {
   "cell_type": "code",
   "execution_count": 28,
   "metadata": {},
   "outputs": [
    {
     "data": {
      "text/plain": [
       "array([[59, 10],\n",
       "       [28, 19],\n",
       "       [33,  2],\n",
       "       [ 7, 40],\n",
       "       [14, 99],\n",
       "       [37,  7],\n",
       "       [87, 72],\n",
       "       [56, 30],\n",
       "       [61, 99],\n",
       "       [ 7, 55]])"
      ]
     },
     "execution_count": 28,
     "metadata": {},
     "output_type": "execute_result"
    }
   ],
   "source": [
    "X[:10, :]"
   ]
  },
  {
   "cell_type": "code",
   "execution_count": 29,
   "metadata": {},
   "outputs": [],
   "source": [
    "X = np.array(X, dtype=float)"
   ]
  },
  {
   "cell_type": "code",
   "execution_count": 30,
   "metadata": {},
   "outputs": [
    {
     "data": {
      "text/plain": [
       "array([[59., 10.],\n",
       "       [28., 19.],\n",
       "       [33.,  2.],\n",
       "       [ 7., 40.],\n",
       "       [14., 99.],\n",
       "       [37.,  7.],\n",
       "       [87., 72.],\n",
       "       [56., 30.],\n",
       "       [61., 99.],\n",
       "       [ 7., 55.]])"
      ]
     },
     "execution_count": 30,
     "metadata": {},
     "output_type": "execute_result"
    }
   ],
   "source": [
    "X[:10, :]"
   ]
  },
  {
   "cell_type": "code",
   "execution_count": 32,
   "metadata": {},
   "outputs": [],
   "source": [
    "X[:, 0] = (X[:, 0]- np.min(X[:, 0]))/(np.max(X[:, 0])-np.min(X[:, 0]))"
   ]
  },
  {
   "cell_type": "code",
   "execution_count": 33,
   "metadata": {},
   "outputs": [
    {
     "data": {
      "text/plain": [
       "array([0.5959596 , 0.28282828, 0.33333333, 0.07070707, 0.14141414,\n",
       "       0.37373737, 0.87878788, 0.56565657, 0.61616162, 0.07070707,\n",
       "       0.98989899, 0.84848485, 0.62626263, 0.43434343, 0.6969697 ,\n",
       "       0.15151515, 0.77777778, 0.42424242, 0.        , 0.82828283,\n",
       "       0.16161616, 0.42424242, 1.        , 0.57575758, 0.84848485,\n",
       "       0.        , 0.63636364, 0.55555556, 0.4040404 , 0.2020202 ,\n",
       "       0.3030303 , 0.11111111, 0.78787879, 0.51515152, 0.57575758,\n",
       "       0.57575758, 0.44444444, 0.85858586, 0.88888889, 0.62626263,\n",
       "       0.29292929, 0.15151515, 0.8989899 , 0.        , 0.72727273,\n",
       "       0.15151515, 0.72727273, 0.63636364, 0.74747475, 0.35353535])"
      ]
     },
     "execution_count": 33,
     "metadata": {},
     "output_type": "execute_result"
    }
   ],
   "source": [
    "X[:, 0]"
   ]
  },
  {
   "cell_type": "code",
   "execution_count": 36,
   "metadata": {},
   "outputs": [
    {
     "ename": "SyntaxError",
     "evalue": "invalid syntax (<ipython-input-36-7f89ed66d7fe>, line 1)",
     "output_type": "error",
     "traceback": [
      "\u001b[1;36m  File \u001b[1;32m\"<ipython-input-36-7f89ed66d7fe>\"\u001b[1;36m, line \u001b[1;32m1\u001b[0m\n\u001b[1;33m    X[:, 1}= (X[:, 1- np.min(X[:, 1))/(np.max(X[:, 1)-np.min(X[:, 1))\u001b[0m\n\u001b[1;37m          ^\u001b[0m\n\u001b[1;31mSyntaxError\u001b[0m\u001b[1;31m:\u001b[0m invalid syntax\n"
     ]
    }
   ],
   "source": [
    "X[:, 1}= (X[:, 1- np.min(X[:, 1))/(np.max(X[:, 1)-np.min(X[:, 1))"
   ]
  },
  {
   "cell_type": "code",
   "execution_count": null,
   "metadata": {},
   "outputs": [],
   "source": []
  }
 ],
 "metadata": {
  "kernelspec": {
   "display_name": "Python 3",
   "language": "python",
   "name": "python3"
  },
  "language_info": {
   "codemirror_mode": {
    "name": "ipython",
    "version": 3
   },
   "file_extension": ".py",
   "mimetype": "text/x-python",
   "name": "python",
   "nbconvert_exporter": "python",
   "pygments_lexer": "ipython3",
   "version": "3.7.0"
  }
 },
 "nbformat": 4,
 "nbformat_minor": 2
}
